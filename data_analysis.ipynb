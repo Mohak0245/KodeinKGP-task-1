{
  "nbformat": 4,
  "nbformat_minor": 0,
  "metadata": {
    "colab": {
      "provenance": [],
      "authorship_tag": "ABX9TyNFz4zxUMw3S7ZytDdFVq5d",
      "include_colab_link": true
    },
    "kernelspec": {
      "name": "python3",
      "display_name": "Python 3"
    },
    "language_info": {
      "name": "python"
    }
  },
  "cells": [
    {
      "cell_type": "markdown",
      "metadata": {
        "id": "view-in-github",
        "colab_type": "text"
      },
      "source": [
        "<a href=\"https://colab.research.google.com/github/Mohak0245/KodeinKGP-task-1/blob/main/data_analysis.ipynb\" target=\"_parent\"><img src=\"https://colab.research.google.com/assets/colab-badge.svg\" alt=\"Open In Colab\"/></a>"
      ]
    },
    {
      "cell_type": "code",
      "execution_count": 1,
      "metadata": {
        "id": "g--48Gyn8qi-"
      },
      "outputs": [],
      "source": [
        "import numpy as np\n",
        "import pandas as pd\n",
        "import matplotlib.pyplot as plt\n",
        "%matplotlib inline"
      ]
    },
    {
      "cell_type": "code",
      "source": [
        "df = pd.read_csv('sample_data/video_game_stocks.csv')"
      ],
      "metadata": {
        "id": "ZG5KhwE9AbPk"
      },
      "execution_count": 4,
      "outputs": []
    },
    {
      "cell_type": "code",
      "source": [
        "df.head()"
      ],
      "metadata": {
        "id": "TSPja2HHRevu",
        "outputId": "6de17c8b-bb6f-44fb-a691-a09bb58526fb",
        "colab": {
          "base_uri": "https://localhost:8080/",
          "height": 310
        }
      },
      "execution_count": 5,
      "outputs": [
        {
          "output_type": "execute_result",
          "data": {
            "text/plain": [
              "         Date                         Company Ticker Symbol Currency  \\\n",
              "0  2000-01-01  Sony Interactive Entertainment          SONY      JPY   \n",
              "1  2000-02-01  Sony Interactive Entertainment          SONY      JPY   \n",
              "2  2000-03-01  Sony Interactive Entertainment          SONY      JPY   \n",
              "3  2000-04-01  Sony Interactive Entertainment          SONY      JPY   \n",
              "4  2000-05-01  Sony Interactive Entertainment          SONY      JPY   \n",
              "\n",
              "        Open       High        Low      Close  Adj Close     Volume  \n",
              "0  28.525000  29.168751  20.850000  25.299999  14.535083  147012000  \n",
              "1  25.293751  31.475000  25.000000  31.350000  18.010864   67437000  \n",
              "2  30.100000  31.299999  21.700001  28.012501  16.093437  112674000  \n",
              "3  28.250000  28.250000  22.312500  22.562500  12.974537   74071000  \n",
              "4  22.700001  23.481251  17.750000  18.237499  10.487453   65035500  "
            ],
            "text/html": [
              "\n",
              "  <div id=\"df-c09a51e5-df94-4452-a974-726086c9da55\" class=\"colab-df-container\">\n",
              "    <div>\n",
              "<style scoped>\n",
              "    .dataframe tbody tr th:only-of-type {\n",
              "        vertical-align: middle;\n",
              "    }\n",
              "\n",
              "    .dataframe tbody tr th {\n",
              "        vertical-align: top;\n",
              "    }\n",
              "\n",
              "    .dataframe thead th {\n",
              "        text-align: right;\n",
              "    }\n",
              "</style>\n",
              "<table border=\"1\" class=\"dataframe\">\n",
              "  <thead>\n",
              "    <tr style=\"text-align: right;\">\n",
              "      <th></th>\n",
              "      <th>Date</th>\n",
              "      <th>Company</th>\n",
              "      <th>Ticker Symbol</th>\n",
              "      <th>Currency</th>\n",
              "      <th>Open</th>\n",
              "      <th>High</th>\n",
              "      <th>Low</th>\n",
              "      <th>Close</th>\n",
              "      <th>Adj Close</th>\n",
              "      <th>Volume</th>\n",
              "    </tr>\n",
              "  </thead>\n",
              "  <tbody>\n",
              "    <tr>\n",
              "      <th>0</th>\n",
              "      <td>2000-01-01</td>\n",
              "      <td>Sony Interactive Entertainment</td>\n",
              "      <td>SONY</td>\n",
              "      <td>JPY</td>\n",
              "      <td>28.525000</td>\n",
              "      <td>29.168751</td>\n",
              "      <td>20.850000</td>\n",
              "      <td>25.299999</td>\n",
              "      <td>14.535083</td>\n",
              "      <td>147012000</td>\n",
              "    </tr>\n",
              "    <tr>\n",
              "      <th>1</th>\n",
              "      <td>2000-02-01</td>\n",
              "      <td>Sony Interactive Entertainment</td>\n",
              "      <td>SONY</td>\n",
              "      <td>JPY</td>\n",
              "      <td>25.293751</td>\n",
              "      <td>31.475000</td>\n",
              "      <td>25.000000</td>\n",
              "      <td>31.350000</td>\n",
              "      <td>18.010864</td>\n",
              "      <td>67437000</td>\n",
              "    </tr>\n",
              "    <tr>\n",
              "      <th>2</th>\n",
              "      <td>2000-03-01</td>\n",
              "      <td>Sony Interactive Entertainment</td>\n",
              "      <td>SONY</td>\n",
              "      <td>JPY</td>\n",
              "      <td>30.100000</td>\n",
              "      <td>31.299999</td>\n",
              "      <td>21.700001</td>\n",
              "      <td>28.012501</td>\n",
              "      <td>16.093437</td>\n",
              "      <td>112674000</td>\n",
              "    </tr>\n",
              "    <tr>\n",
              "      <th>3</th>\n",
              "      <td>2000-04-01</td>\n",
              "      <td>Sony Interactive Entertainment</td>\n",
              "      <td>SONY</td>\n",
              "      <td>JPY</td>\n",
              "      <td>28.250000</td>\n",
              "      <td>28.250000</td>\n",
              "      <td>22.312500</td>\n",
              "      <td>22.562500</td>\n",
              "      <td>12.974537</td>\n",
              "      <td>74071000</td>\n",
              "    </tr>\n",
              "    <tr>\n",
              "      <th>4</th>\n",
              "      <td>2000-05-01</td>\n",
              "      <td>Sony Interactive Entertainment</td>\n",
              "      <td>SONY</td>\n",
              "      <td>JPY</td>\n",
              "      <td>22.700001</td>\n",
              "      <td>23.481251</td>\n",
              "      <td>17.750000</td>\n",
              "      <td>18.237499</td>\n",
              "      <td>10.487453</td>\n",
              "      <td>65035500</td>\n",
              "    </tr>\n",
              "  </tbody>\n",
              "</table>\n",
              "</div>\n",
              "    <div class=\"colab-df-buttons\">\n",
              "\n",
              "  <div class=\"colab-df-container\">\n",
              "    <button class=\"colab-df-convert\" onclick=\"convertToInteractive('df-c09a51e5-df94-4452-a974-726086c9da55')\"\n",
              "            title=\"Convert this dataframe to an interactive table.\"\n",
              "            style=\"display:none;\">\n",
              "\n",
              "  <svg xmlns=\"http://www.w3.org/2000/svg\" height=\"24px\" viewBox=\"0 -960 960 960\">\n",
              "    <path d=\"M120-120v-720h720v720H120Zm60-500h600v-160H180v160Zm220 220h160v-160H400v160Zm0 220h160v-160H400v160ZM180-400h160v-160H180v160Zm440 0h160v-160H620v160ZM180-180h160v-160H180v160Zm440 0h160v-160H620v160Z\"/>\n",
              "  </svg>\n",
              "    </button>\n",
              "\n",
              "  <style>\n",
              "    .colab-df-container {\n",
              "      display:flex;\n",
              "      gap: 12px;\n",
              "    }\n",
              "\n",
              "    .colab-df-convert {\n",
              "      background-color: #E8F0FE;\n",
              "      border: none;\n",
              "      border-radius: 50%;\n",
              "      cursor: pointer;\n",
              "      display: none;\n",
              "      fill: #1967D2;\n",
              "      height: 32px;\n",
              "      padding: 0 0 0 0;\n",
              "      width: 32px;\n",
              "    }\n",
              "\n",
              "    .colab-df-convert:hover {\n",
              "      background-color: #E2EBFA;\n",
              "      box-shadow: 0px 1px 2px rgba(60, 64, 67, 0.3), 0px 1px 3px 1px rgba(60, 64, 67, 0.15);\n",
              "      fill: #174EA6;\n",
              "    }\n",
              "\n",
              "    .colab-df-buttons div {\n",
              "      margin-bottom: 4px;\n",
              "    }\n",
              "\n",
              "    [theme=dark] .colab-df-convert {\n",
              "      background-color: #3B4455;\n",
              "      fill: #D2E3FC;\n",
              "    }\n",
              "\n",
              "    [theme=dark] .colab-df-convert:hover {\n",
              "      background-color: #434B5C;\n",
              "      box-shadow: 0px 1px 3px 1px rgba(0, 0, 0, 0.15);\n",
              "      filter: drop-shadow(0px 1px 2px rgba(0, 0, 0, 0.3));\n",
              "      fill: #FFFFFF;\n",
              "    }\n",
              "  </style>\n",
              "\n",
              "    <script>\n",
              "      const buttonEl =\n",
              "        document.querySelector('#df-c09a51e5-df94-4452-a974-726086c9da55 button.colab-df-convert');\n",
              "      buttonEl.style.display =\n",
              "        google.colab.kernel.accessAllowed ? 'block' : 'none';\n",
              "\n",
              "      async function convertToInteractive(key) {\n",
              "        const element = document.querySelector('#df-c09a51e5-df94-4452-a974-726086c9da55');\n",
              "        const dataTable =\n",
              "          await google.colab.kernel.invokeFunction('convertToInteractive',\n",
              "                                                    [key], {});\n",
              "        if (!dataTable) return;\n",
              "\n",
              "        const docLinkHtml = 'Like what you see? Visit the ' +\n",
              "          '<a target=\"_blank\" href=https://colab.research.google.com/notebooks/data_table.ipynb>data table notebook</a>'\n",
              "          + ' to learn more about interactive tables.';\n",
              "        element.innerHTML = '';\n",
              "        dataTable['output_type'] = 'display_data';\n",
              "        await google.colab.output.renderOutput(dataTable, element);\n",
              "        const docLink = document.createElement('div');\n",
              "        docLink.innerHTML = docLinkHtml;\n",
              "        element.appendChild(docLink);\n",
              "      }\n",
              "    </script>\n",
              "  </div>\n",
              "\n",
              "\n",
              "<div id=\"df-bcb6c3d7-6f54-4f6b-9282-2d4540dc6417\">\n",
              "  <button class=\"colab-df-quickchart\" onclick=\"quickchart('df-bcb6c3d7-6f54-4f6b-9282-2d4540dc6417')\"\n",
              "            title=\"Suggest charts\"\n",
              "            style=\"display:none;\">\n",
              "\n",
              "<svg xmlns=\"http://www.w3.org/2000/svg\" height=\"24px\"viewBox=\"0 0 24 24\"\n",
              "     width=\"24px\">\n",
              "    <g>\n",
              "        <path d=\"M19 3H5c-1.1 0-2 .9-2 2v14c0 1.1.9 2 2 2h14c1.1 0 2-.9 2-2V5c0-1.1-.9-2-2-2zM9 17H7v-7h2v7zm4 0h-2V7h2v10zm4 0h-2v-4h2v4z\"/>\n",
              "    </g>\n",
              "</svg>\n",
              "  </button>\n",
              "\n",
              "<style>\n",
              "  .colab-df-quickchart {\n",
              "      --bg-color: #E8F0FE;\n",
              "      --fill-color: #1967D2;\n",
              "      --hover-bg-color: #E2EBFA;\n",
              "      --hover-fill-color: #174EA6;\n",
              "      --disabled-fill-color: #AAA;\n",
              "      --disabled-bg-color: #DDD;\n",
              "  }\n",
              "\n",
              "  [theme=dark] .colab-df-quickchart {\n",
              "      --bg-color: #3B4455;\n",
              "      --fill-color: #D2E3FC;\n",
              "      --hover-bg-color: #434B5C;\n",
              "      --hover-fill-color: #FFFFFF;\n",
              "      --disabled-bg-color: #3B4455;\n",
              "      --disabled-fill-color: #666;\n",
              "  }\n",
              "\n",
              "  .colab-df-quickchart {\n",
              "    background-color: var(--bg-color);\n",
              "    border: none;\n",
              "    border-radius: 50%;\n",
              "    cursor: pointer;\n",
              "    display: none;\n",
              "    fill: var(--fill-color);\n",
              "    height: 32px;\n",
              "    padding: 0;\n",
              "    width: 32px;\n",
              "  }\n",
              "\n",
              "  .colab-df-quickchart:hover {\n",
              "    background-color: var(--hover-bg-color);\n",
              "    box-shadow: 0 1px 2px rgba(60, 64, 67, 0.3), 0 1px 3px 1px rgba(60, 64, 67, 0.15);\n",
              "    fill: var(--button-hover-fill-color);\n",
              "  }\n",
              "\n",
              "  .colab-df-quickchart-complete:disabled,\n",
              "  .colab-df-quickchart-complete:disabled:hover {\n",
              "    background-color: var(--disabled-bg-color);\n",
              "    fill: var(--disabled-fill-color);\n",
              "    box-shadow: none;\n",
              "  }\n",
              "\n",
              "  .colab-df-spinner {\n",
              "    border: 2px solid var(--fill-color);\n",
              "    border-color: transparent;\n",
              "    border-bottom-color: var(--fill-color);\n",
              "    animation:\n",
              "      spin 1s steps(1) infinite;\n",
              "  }\n",
              "\n",
              "  @keyframes spin {\n",
              "    0% {\n",
              "      border-color: transparent;\n",
              "      border-bottom-color: var(--fill-color);\n",
              "      border-left-color: var(--fill-color);\n",
              "    }\n",
              "    20% {\n",
              "      border-color: transparent;\n",
              "      border-left-color: var(--fill-color);\n",
              "      border-top-color: var(--fill-color);\n",
              "    }\n",
              "    30% {\n",
              "      border-color: transparent;\n",
              "      border-left-color: var(--fill-color);\n",
              "      border-top-color: var(--fill-color);\n",
              "      border-right-color: var(--fill-color);\n",
              "    }\n",
              "    40% {\n",
              "      border-color: transparent;\n",
              "      border-right-color: var(--fill-color);\n",
              "      border-top-color: var(--fill-color);\n",
              "    }\n",
              "    60% {\n",
              "      border-color: transparent;\n",
              "      border-right-color: var(--fill-color);\n",
              "    }\n",
              "    80% {\n",
              "      border-color: transparent;\n",
              "      border-right-color: var(--fill-color);\n",
              "      border-bottom-color: var(--fill-color);\n",
              "    }\n",
              "    90% {\n",
              "      border-color: transparent;\n",
              "      border-bottom-color: var(--fill-color);\n",
              "    }\n",
              "  }\n",
              "</style>\n",
              "\n",
              "  <script>\n",
              "    async function quickchart(key) {\n",
              "      const quickchartButtonEl =\n",
              "        document.querySelector('#' + key + ' button');\n",
              "      quickchartButtonEl.disabled = true;  // To prevent multiple clicks.\n",
              "      quickchartButtonEl.classList.add('colab-df-spinner');\n",
              "      try {\n",
              "        const charts = await google.colab.kernel.invokeFunction(\n",
              "            'suggestCharts', [key], {});\n",
              "      } catch (error) {\n",
              "        console.error('Error during call to suggestCharts:', error);\n",
              "      }\n",
              "      quickchartButtonEl.classList.remove('colab-df-spinner');\n",
              "      quickchartButtonEl.classList.add('colab-df-quickchart-complete');\n",
              "    }\n",
              "    (() => {\n",
              "      let quickchartButtonEl =\n",
              "        document.querySelector('#df-bcb6c3d7-6f54-4f6b-9282-2d4540dc6417 button');\n",
              "      quickchartButtonEl.style.display =\n",
              "        google.colab.kernel.accessAllowed ? 'block' : 'none';\n",
              "    })();\n",
              "  </script>\n",
              "</div>\n",
              "\n",
              "    </div>\n",
              "  </div>\n"
            ],
            "application/vnd.google.colaboratory.intrinsic+json": {
              "type": "dataframe",
              "variable_name": "df",
              "summary": "{\n  \"name\": \"df\",\n  \"rows\": 2209,\n  \"fields\": [\n    {\n      \"column\": \"Date\",\n      \"properties\": {\n        \"dtype\": \"object\",\n        \"num_unique_values\": 298,\n        \"samples\": [\n          \"2013-04-01\",\n          \"2022-01-01\",\n          \"2021-03-01\"\n        ],\n        \"semantic_type\": \"\",\n        \"description\": \"\"\n      }\n    },\n    {\n      \"column\": \"Company\",\n      \"properties\": {\n        \"dtype\": \"category\",\n        \"num_unique_values\": 10,\n        \"samples\": [\n          \"Roblox Corporation\",\n          \"Tencent Interactive Entertainment\",\n          \"Electronic Arts\"\n        ],\n        \"semantic_type\": \"\",\n        \"description\": \"\"\n      }\n    },\n    {\n      \"column\": \"Ticker Symbol\",\n      \"properties\": {\n        \"dtype\": \"category\",\n        \"num_unique_values\": 10,\n        \"samples\": [\n          \"RBLX\",\n          \"0700.HK\",\n          \"EA\"\n        ],\n        \"semantic_type\": \"\",\n        \"description\": \"\"\n      }\n    },\n    {\n      \"column\": \"Currency\",\n      \"properties\": {\n        \"dtype\": \"category\",\n        \"num_unique_values\": 4,\n        \"samples\": [\n          \"HKD\",\n          \"SEK\",\n          \"JPY\"\n        ],\n        \"semantic_type\": \"\",\n        \"description\": \"\"\n      }\n    },\n    {\n      \"column\": \"Open\",\n      \"properties\": {\n        \"dtype\": \"number\",\n        \"std\": 88.55227736805104,\n        \"min\": 0.0320000015199184,\n        \"max\": 643.455810546875,\n        \"num_unique_values\": 2052,\n        \"samples\": [\n          2.674499988555908,\n          5.834000110626221,\n          16.99333381652832\n        ],\n        \"semantic_type\": \"\",\n        \"description\": \"\"\n      }\n    },\n    {\n      \"column\": \"High\",\n      \"properties\": {\n        \"dtype\": \"number\",\n        \"std\": 95.0866844158314,\n        \"min\": 0.0320000015199184,\n        \"max\": 714.899658203125,\n        \"num_unique_values\": 2043,\n        \"samples\": [\n          110.81999969482422,\n          9.366000175476074,\n          0.0734999999403953\n        ],\n        \"semantic_type\": \"\",\n        \"description\": \"\"\n      }\n    },\n    {\n      \"column\": \"Low\",\n      \"properties\": {\n        \"dtype\": \"number\",\n        \"std\": 82.6986836474647,\n        \"min\": 0.0254999995231628,\n        \"max\": 610.7299194335938,\n        \"num_unique_values\": 2071,\n        \"samples\": [\n          18.203125,\n          61.95000076293945,\n          28.63999938964844\n        ],\n        \"semantic_type\": \"\",\n        \"description\": \"\"\n      }\n    },\n    {\n      \"column\": \"Close\",\n      \"properties\": {\n        \"dtype\": \"number\",\n        \"std\": 88.81689740984959,\n        \"min\": 0.0320000015199184,\n        \"max\": 628.2451782226562,\n        \"num_unique_values\": 2081,\n        \"samples\": [\n          131.22999572753906,\n          376.0400085449219,\n          158.1999969482422\n        ],\n        \"semantic_type\": \"\",\n        \"description\": \"\"\n      }\n    },\n    {\n      \"column\": \"Adj Close\",\n      \"properties\": {\n        \"dtype\": \"number\",\n        \"std\": 87.52954619288411,\n        \"min\": 0.0258684512227773,\n        \"max\": 613.6022338867188,\n        \"num_unique_values\": 2166,\n        \"samples\": [\n          54.61572647094727,\n          76.7984848022461,\n          49.03091812133789\n        ],\n        \"semantic_type\": \"\",\n        \"description\": \"\"\n      }\n    },\n    {\n      \"column\": \"Volume\",\n      \"properties\": {\n        \"dtype\": \"number\",\n        \"std\": 402790903,\n        \"min\": 0,\n        \"max\": 3044579400,\n        \"num_unique_values\": 2206,\n        \"samples\": [\n          57508600,\n          72565200,\n          154193200\n        ],\n        \"semantic_type\": \"\",\n        \"description\": \"\"\n      }\n    }\n  ]\n}"
            }
          },
          "metadata": {},
          "execution_count": 5
        }
      ]
    },
    {
      "cell_type": "code",
      "source": [
        "df.shape"
      ],
      "metadata": {
        "id": "ZIBU8em_Ryk2",
        "outputId": "b8323d63-ca16-4d22-80ef-b66558fe5d17",
        "colab": {
          "base_uri": "https://localhost:8080/"
        }
      },
      "execution_count": 6,
      "outputs": [
        {
          "output_type": "execute_result",
          "data": {
            "text/plain": [
              "(2209, 10)"
            ]
          },
          "metadata": {},
          "execution_count": 6
        }
      ]
    },
    {
      "cell_type": "code",
      "source": [
        "df.info()"
      ],
      "metadata": {
        "id": "BO0jTajqRyae",
        "outputId": "0542ab31-cc98-497f-e235-ec03433abe5a",
        "colab": {
          "base_uri": "https://localhost:8080/"
        }
      },
      "execution_count": 7,
      "outputs": [
        {
          "output_type": "stream",
          "name": "stdout",
          "text": [
            "<class 'pandas.core.frame.DataFrame'>\n",
            "RangeIndex: 2209 entries, 0 to 2208\n",
            "Data columns (total 10 columns):\n",
            " #   Column         Non-Null Count  Dtype  \n",
            "---  ------         --------------  -----  \n",
            " 0   Date           2209 non-null   object \n",
            " 1   Company        2209 non-null   object \n",
            " 2   Ticker Symbol  2209 non-null   object \n",
            " 3   Currency       2209 non-null   object \n",
            " 4   Open           2209 non-null   float64\n",
            " 5   High           2209 non-null   float64\n",
            " 6   Low            2209 non-null   float64\n",
            " 7   Close          2209 non-null   float64\n",
            " 8   Adj Close      2209 non-null   float64\n",
            " 9   Volume         2209 non-null   int64  \n",
            "dtypes: float64(5), int64(1), object(4)\n",
            "memory usage: 172.7+ KB\n"
          ]
        }
      ]
    },
    {
      "cell_type": "code",
      "source": [
        "df[\"Date\"] = pd.to_datetime(df['Date'])"
      ],
      "metadata": {
        "id": "5eUv9TdeRyXw"
      },
      "execution_count": 11,
      "outputs": []
    },
    {
      "cell_type": "code",
      "source": [
        "df.info()"
      ],
      "metadata": {
        "id": "MRjNcYIzSMV7",
        "outputId": "f6473712-53b7-4a1b-9ba2-d60827aef924",
        "colab": {
          "base_uri": "https://localhost:8080/"
        }
      },
      "execution_count": 12,
      "outputs": [
        {
          "output_type": "stream",
          "name": "stdout",
          "text": [
            "<class 'pandas.core.frame.DataFrame'>\n",
            "RangeIndex: 2209 entries, 0 to 2208\n",
            "Data columns (total 10 columns):\n",
            " #   Column         Non-Null Count  Dtype         \n",
            "---  ------         --------------  -----         \n",
            " 0   Date           2209 non-null   datetime64[ns]\n",
            " 1   Company        2209 non-null   object        \n",
            " 2   Ticker Symbol  2209 non-null   object        \n",
            " 3   Currency       2209 non-null   object        \n",
            " 4   Open           2209 non-null   float64       \n",
            " 5   High           2209 non-null   float64       \n",
            " 6   Low            2209 non-null   float64       \n",
            " 7   Close          2209 non-null   float64       \n",
            " 8   Adj Close      2209 non-null   float64       \n",
            " 9   Volume         2209 non-null   int64         \n",
            "dtypes: datetime64[ns](1), float64(5), int64(1), object(3)\n",
            "memory usage: 172.7+ KB\n"
          ]
        }
      ]
    },
    {
      "cell_type": "code",
      "source": [
        "df['Currency'].unique()"
      ],
      "metadata": {
        "id": "4xdAdcnxYBSn",
        "outputId": "be7956c4-b31a-4d03-e20b-5dacaa2c5160",
        "colab": {
          "base_uri": "https://localhost:8080/"
        }
      },
      "execution_count": 42,
      "outputs": [
        {
          "output_type": "execute_result",
          "data": {
            "text/plain": [
              "array(['JPY', 'HKD', 'USD', 'SEK'], dtype=object)"
            ]
          },
          "metadata": {},
          "execution_count": 42
        }
      ]
    },
    {
      "cell_type": "code",
      "source": [
        "df.loc[df['Currency'] == 'JPY', 'Open'] = df['Open']*0.56\n",
        "df.loc[df['Currency'] == 'JPY', 'High'] = df['High']*0.56\n",
        "df.loc[df['Currency'] == 'JPY', 'Low'] = df['Low']*0.56\n",
        "df.loc[df['Currency'] == 'JPY', 'Close'] = df['Close']*0.56"
      ],
      "metadata": {
        "id": "KwrEaguzWrPM"
      },
      "execution_count": 35,
      "outputs": []
    },
    {
      "cell_type": "code",
      "source": [
        "df.loc[df['Currency'] == 'HKD', 'Open'] = df['Open']*10.89\n",
        "df.loc[df['Currency'] == 'HKD', 'High'] = df['High']*10.89\n",
        "df.loc[df['Currency'] == 'HKD', 'Low'] = df['Low']*10.89\n",
        "df.loc[df['Currency'] == 'HKD', 'Close'] = df['Close']*10.89"
      ],
      "metadata": {
        "id": "wMFOT6WRZv1-"
      },
      "execution_count": 43,
      "outputs": []
    },
    {
      "cell_type": "code",
      "source": [
        "df.loc[df['Currency'] == 'USD', 'Open'] = df['Open']*84.68\n",
        "df.loc[df['Currency'] == 'USD', 'High'] = df['High']*84.68\n",
        "df.loc[df['Currency'] == 'USD', 'Low'] = df['Low']*84.68\n",
        "df.loc[df['Currency'] == 'USD', 'Close'] = df['Close']*84.68"
      ],
      "metadata": {
        "id": "aJxBgl5qaFSL"
      },
      "execution_count": 44,
      "outputs": []
    },
    {
      "cell_type": "code",
      "source": [
        "df.loc[df['Currency'] == 'SEK', 'Open'] = df['Open']*7.73\n",
        "df.loc[df['Currency'] == 'SEK', 'High'] = df['High']*7.73\n",
        "df.loc[df['Currency'] == 'SEK', 'Low'] = df['Low']*7.73\n",
        "df.loc[df['Currency'] == 'SEK', 'Close'] = df['Close']*7.73"
      ],
      "metadata": {
        "id": "3Jv_Ej-BaMvV"
      },
      "execution_count": 45,
      "outputs": []
    },
    {
      "cell_type": "code",
      "source": [
        "df = df.drop('Currency', axis = 'columns')\n",
        "df = df.drop('Adj Close', axis = 'columns')"
      ],
      "metadata": {
        "id": "aoJbBJnCbY5V"
      },
      "execution_count": 55,
      "outputs": []
    },
    {
      "cell_type": "code",
      "source": [
        "max_open_company = df[df['Open'] == df['Open'].max()]['Company']\n",
        "max_high_company = df[df['High'] == df['High'].max()]['Company']\n",
        "max_low_company = df[df['Low'] == df['Low'].max()]['Company']\n",
        "max_close_company = df[df['Close'] == df['Close'].max()]['Company']"
      ],
      "metadata": {
        "id": "GPiSigREcory"
      },
      "execution_count": 67,
      "outputs": []
    },
    {
      "cell_type": "code",
      "source": [
        "df['Profit'] = df['High'] - df['Low']"
      ],
      "metadata": {
        "id": "jlW_lxVJeWkD"
      },
      "execution_count": 70,
      "outputs": []
    },
    {
      "cell_type": "code",
      "source": [
        "df['Profit_Per_Volume'] = (df['Profit'])/(df['Volume'])"
      ],
      "metadata": {
        "id": "Ry9Pg5dUe09Z"
      },
      "execution_count": 76,
      "outputs": []
    },
    {
      "cell_type": "code",
      "source": [
        "df.plot(x='Profit', y='Profit_Per_Volume', kind='line')"
      ],
      "metadata": {
        "id": "wo9NTxO4fkn5",
        "outputId": "f76751e3-45a5-4d9a-e874-82ea042c6795",
        "colab": {
          "base_uri": "https://localhost:8080/",
          "height": 468
        }
      },
      "execution_count": 81,
      "outputs": [
        {
          "output_type": "execute_result",
          "data": {
            "text/plain": [
              "<Axes: xlabel='Profit'>"
            ]
          },
          "metadata": {},
          "execution_count": 81
        },
        {
          "output_type": "display_data",
          "data": {
            "text/plain": [
              "<Figure size 640x480 with 1 Axes>"
            ],
            "image/png": "[encoded data removed]"
          },
          "metadata": {}
        }
      ]
    }
  ]
}